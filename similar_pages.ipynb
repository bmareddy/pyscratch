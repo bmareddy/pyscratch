{
 "cells": [
  {
   "cell_type": "code",
   "execution_count": 19,
   "metadata": {},
   "outputs": [],
   "source": [
    "import json\n",
    "from sklearn.metrics.pairwise import cosine_similarity\n",
    "import random as rand"
   ]
  },
  {
   "cell_type": "code",
   "execution_count": 35,
   "metadata": {},
   "outputs": [],
   "source": [
    "wd = \"C:\\\\Users\\\\bmareddy\\\\Documents\\\\PyLab\"\n",
    "inFileVecs = wd+\"\\\\MCG-Archive_tags_vectors.json\"\n",
    "pageVectors = [json.loads(pv) for pv in open(inFileVecs,\"r\").read().splitlines()]\n",
    "#vec = np.asarray(pageVectors[rand.randint(0,len(pageVectors))][\"vector\"])\n",
    "#print (vec,vec.shape,vec.size)\n",
    "#vec = vec.reshape(1,300)\n",
    "#print (vec,vec.shape,vec.size)"
   ]
  },
  {
   "cell_type": "code",
   "execution_count": 40,
   "metadata": {},
   "outputs": [],
   "source": [
    "def similar_pages(vsm,page_position):\n",
    "    source_vec = np.asarray(vsm[page_position][\"vector\"])\n",
    "    source_vec = source_vec.reshape(1,300)\n",
    "    compare_vec = [np.asarray(vsm[i][\"vector\"]) for i in range(len(vsm))]\n",
    "    sim_page_positions = [(i,cosine_similarity(source_vec,compare_vec[i].reshape(1,300))) for i in range(len(vsm)) if i != page_position]\n",
    "    sim_page_positions = [(x[0],float(x[1].reshape(1,))) for x in sim_page_positions]\n",
    "    sim_page_positions.sort(key=lambda x: x[1], reverse = True)\n",
    "    sim_pages = [(vsm[x[0]][\"pageId\"],x[1]) for x in sim_page_positions[:5]]\n",
    "    return sim_pages"
   ]
  },
  {
   "cell_type": "code",
   "execution_count": 41,
   "metadata": {},
   "outputs": [
    {
     "name": "stdout",
     "output_type": "stream",
     "text": [
      "Finding similar pages for pageId: 116698554\n",
      "[('125038887', 0.699861244555974), ('99229665', 0.694312659414417), ('100535281', 0.6933916643520586), ('125023569', 0.6681354580299798), ('109853376', 0.6677096283109454)]\n"
     ]
    }
   ],
   "source": [
    "page_pos = rand.randint(0,len(pageVectors))\n",
    "print (\"Finding similar pages for pageId: {}\".format(pageVectors[page_pos][\"pageId\"]))\n",
    "sp = similar_pages(pageVectors,page_pos)\n",
    "print (sp)"
   ]
  },
  {
   "cell_type": "code",
   "execution_count": 26,
   "metadata": {},
   "outputs": [
    {
     "name": "stdout",
     "output_type": "stream",
     "text": [
      "[('B', 7), ('C', 8), ('A', 9)]\n"
     ]
    }
   ],
   "source": [
    "l = [(\"A\",9),(\"B\",7),(\"C\",8)]\n",
    "l.sort(key=lambda x: x[1])\n",
    "print (l)"
   ]
  },
  {
   "cell_type": "code",
   "execution_count": null,
   "metadata": {},
   "outputs": [],
   "source": []
  }
 ],
 "metadata": {
  "kernelspec": {
   "display_name": "Python 3",
   "language": "python",
   "name": "python3"
  },
  "language_info": {
   "codemirror_mode": {
    "name": "ipython",
    "version": 3
   },
   "file_extension": ".py",
   "mimetype": "text/x-python",
   "name": "python",
   "nbconvert_exporter": "python",
   "pygments_lexer": "ipython3",
   "version": "3.6.3"
  }
 },
 "nbformat": 4,
 "nbformat_minor": 2
}
