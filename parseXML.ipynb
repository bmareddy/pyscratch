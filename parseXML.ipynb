{
 "cells": [
  {
   "cell_type": "code",
   "execution_count": 13,
   "metadata": {
    "collapsed": true
   },
   "outputs": [],
   "source": [
    "import xml.etree.ElementTree as et\n",
    "import pandas as pd"
   ]
  },
  {
   "cell_type": "code",
   "execution_count": 15,
   "metadata": {},
   "outputs": [
    {
     "name": "stdout",
     "output_type": "stream",
     "text": [
      "country {'name': 'Liechtenstein'} \n",
      "        \n",
      "rank {'updated': 'yes'} 2\n",
      "year {} 2008\n",
      "gdppc {} 141100\n",
      "neighbor {'name': 'Austria', 'direction': 'E'} None\n",
      "neighbor {'name': 'Switzerland', 'direction': 'W'} None\n",
      "country {'name': 'Singapore'} \n",
      "        \n",
      "rank {'updated': 'yes'} 5\n",
      "year {} 2011\n",
      "gdppc {} 59900\n",
      "neighbor {'name': 'Malaysia', 'direction': 'N'} None\n"
     ]
    }
   ],
   "source": [
    "data = et.parse(\"C:\\\\Users\\\\madhu\\\\Documents\\\\PyLab\\\\sample.xml\")\n",
    "roottag = data.getroot()\n",
    "for children in roottag:\n",
    "    print (children.tag, children.attrib, children.text)\n",
    "    for grandchild in children:\n",
    "        print (grandchild.tag, grandchild.attrib, grandchild.text)"
   ]
  },
  {
   "cell_type": "code",
   "execution_count": null,
   "metadata": {
    "collapsed": true
   },
   "outputs": [],
   "source": []
  }
 ],
 "metadata": {
  "kernelspec": {
   "display_name": "Python 3",
   "language": "python",
   "name": "python3"
  },
  "language_info": {
   "codemirror_mode": {
    "name": "ipython",
    "version": 3
   },
   "file_extension": ".py",
   "mimetype": "text/x-python",
   "name": "python",
   "nbconvert_exporter": "python",
   "pygments_lexer": "ipython3",
   "version": "3.6.2"
  }
 },
 "nbformat": 4,
 "nbformat_minor": 2
}
