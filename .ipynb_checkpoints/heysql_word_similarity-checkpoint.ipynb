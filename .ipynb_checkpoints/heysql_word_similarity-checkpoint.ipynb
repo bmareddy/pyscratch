{
 "cells": [
  {
   "cell_type": "code",
   "execution_count": 1,
   "metadata": {},
   "outputs": [],
   "source": [
    "import spacy"
   ]
  },
  {
   "cell_type": "code",
   "execution_count": 2,
   "metadata": {},
   "outputs": [],
   "source": [
    "nlp = spacy.load(\"en_core_web_lg\")"
   ]
  },
  {
   "cell_type": "code",
   "execution_count": 114,
   "metadata": {},
   "outputs": [],
   "source": [
    "#thesaurus = [\"location\",\"site\",\"store\",\"business\",\"retail\"]\n",
    "thesaurus = [\"groups\",\"demographics\",\"financial\",\"permissions\",\"stores\"]\n",
    "query_word = \"population\" #spend, #cost\n",
    "doc = nlp(query_word)"
   ]
  },
  {
   "cell_type": "code",
   "execution_count": 115,
   "metadata": {},
   "outputs": [
    {
     "name": "stdout",
     "output_type": "stream",
     "text": [
      "('demographics', 0.5786545793571657)\n",
      "('groups', 0.4337775876631631)\n",
      "('financial', 0.3161820869584869)\n",
      "('stores', 0.1884412282813772)\n",
      "('permissions', 0.033105701561793516)\n"
     ]
    }
   ],
   "source": [
    "#Match with the words in the thesaurus\n",
    "for d in doc:\n",
    "    pass\n",
    "similarity = [(t, d.similarity(nlp(t))) for t in thesaurus]\n",
    "sorted_similarity = sorted(similarity, key = lambda x: x[1], reverse = True)\n",
    "for s in sorted_similarity:\n",
    "    print (s)"
   ]
  },
  {
   "cell_type": "code",
   "execution_count": 116,
   "metadata": {},
   "outputs": [
    {
     "name": "stdout",
     "output_type": "stream",
     "text": [
      "('population', 1.0)\n",
      "('populations', 0.8244338)\n",
      "('inhabitants', 0.6211659)\n",
      "('populace', 0.6054728)\n",
      "('populous', 0.60255146)\n"
     ]
    }
   ],
   "source": [
    "#Find similar words from Spacy Vocab\n",
    "for d in doc:\n",
    "    pass\n",
    "similarity = [(w, d.similarity(w)) for w in d.vocab if w.is_lower == d.is_lower and w.prob >= -15 and d.similarity(w) >= 0.6]\n",
    "sorted_similarity = sorted(similarity, key = lambda x: x[1], reverse = True)\n",
    "for s in sorted_similarity[:5]:\n",
    "    print ((s[0].text,s[1]))"
   ]
  },
  {
   "cell_type": "code",
   "execution_count": 113,
   "metadata": {},
   "outputs": [],
   "source": [
    "import numpy as np\n",
    "from sklearn.metrics.pairwise import cosine_similarity"
   ]
  },
  {
   "cell_type": "code",
   "execution_count": 120,
   "metadata": {},
   "outputs": [],
   "source": [
    "query_word = \"in DC\"\n",
    "doc = nlp(query_word)"
   ]
  },
  {
   "cell_type": "code",
   "execution_count": 121,
   "metadata": {},
   "outputs": [
    {
     "name": "stdout",
     "output_type": "stream",
     "text": [
      "[ 2.25463495e-01  9.84809995e-02  3.19330007e-01 -1.42677501e-01\n",
      "  5.19124985e-01  9.50199962e-02  7.89700001e-02  1.78640008e-01\n",
      "  3.45880002e-01  1.29649889e+00 -6.37359977e-01 -3.94554496e-01\n",
      "  7.31519982e-02  2.56414991e-03 -2.16470003e-01 -3.97450030e-02\n",
      "  2.62799978e-01  1.67850006e+00 -1.98385000e-01 -5.13949990e-02\n",
      "  1.08050108e-02 -2.54399985e-01 -1.35027498e-01 -1.05030000e-01\n",
      "  1.14487499e-01 -2.45970011e-01 -1.40762493e-01  9.26700085e-02\n",
      "  1.67880002e-02  2.31962159e-01 -3.26830000e-01 -8.76860023e-02\n",
      " -3.24850008e-02  3.64239991e-01  2.11026996e-01  1.38900131e-02\n",
      "  1.51504993e-01  1.85014978e-02 -2.28630006e-01 -1.38285011e-01\n",
      " -2.68705003e-02  3.50445002e-01 -9.19350013e-02 -2.24590003e-01\n",
      " -6.99265003e-02  2.34729499e-01  3.56714994e-01 -3.79365012e-02\n",
      "  5.65271005e-02 -4.76604998e-01  1.27635002e-01  5.28405048e-02\n",
      "  2.03899965e-02 -3.00550014e-01 -3.15250009e-02  9.85049978e-02\n",
      "  1.44213498e-01  3.96700054e-02  2.34090000e-01 -9.71090049e-02\n",
      " -3.99226993e-01 -1.66514993e-01 -1.88100994e-01 -1.46989999e-02\n",
      "  5.32104969e-02  2.86270007e-02 -3.31660002e-01 -1.34234000e-02\n",
      "  8.64825025e-02  1.39883488e-01 -3.05450499e-01  3.16495001e-01\n",
      "  3.31704989e-02  6.17789989e-03  4.42939997e-01  8.10450017e-02\n",
      " -3.28999996e-01 -8.82605016e-02  6.00699931e-02  4.15335000e-01\n",
      " -2.43990004e-01  3.57689977e-01  2.07655020e-02 -3.45160007e-01\n",
      " -1.12599500e-01  3.86950001e-03  4.58570004e-01  3.38434994e-01\n",
      "  2.42564991e-01 -9.23134983e-02  1.49770021e-01 -2.32900009e-02\n",
      " -3.73979986e-01 -6.21041000e-01  1.40479982e-01 -8.53684992e-02\n",
      "  1.05254993e-01  6.01999983e-02 -1.45610012e-02 -2.31835991e-01\n",
      " -2.78109014e-01  1.21684998e-01 -1.16041496e-01 -1.73545003e-01\n",
      "  4.21590030e-01 -6.99275017e-01  1.79040000e-01  1.60100013e-02\n",
      " -1.65985003e-01 -1.12195000e-01  2.01460004e-01 -2.62205988e-01\n",
      "  1.98599011e-01 -9.05649960e-02  1.58565506e-01 -3.85399982e-02\n",
      "  1.11469999e-01  4.08001244e-03 -1.96934998e-01  5.75900078e-02\n",
      " -3.09917957e-01 -1.61666006e-01  1.07265502e-01 -2.36640006e-01\n",
      "  1.08415008e-01  6.68009967e-02  1.33072495e-01 -5.26017509e-02\n",
      "  3.53959978e-01  8.19000602e-03  2.82214999e-01 -1.54720500e-01\n",
      " -2.68954992e-01 -1.76483005e-01  9.61700082e-02 -1.36830002e-01\n",
      " -2.94749960e-02 -1.45345002e-01  1.13099962e-02  5.73400110e-02\n",
      " -8.40020001e-01 -4.11059976e-01  4.89849985e-01 -3.25430006e-01\n",
      " -1.36840999e-01  1.83255002e-01 -1.73641503e-01 -9.24894959e-02\n",
      "  1.05410010e-01 -6.05250075e-02  1.86646998e-01 -3.04049999e-01\n",
      " -6.97716996e-02  3.19299996e-02  5.86500019e-03 -3.05649519e-01\n",
      " -3.59919995e-01 -1.04494996e-01  1.08999982e-02 -1.71953052e-01\n",
      "  1.46915004e-01  4.52435017e-01  2.89558977e-01  1.90025002e-01\n",
      " -1.13015004e-01 -1.68466002e-01 -1.26086503e-01  2.84494996e-01\n",
      "  6.01500049e-02  2.10010007e-01 -1.58648491e-01 -8.91335011e-02\n",
      " -8.96029994e-02  2.09165007e-01  1.34315997e-01 -3.87250036e-02\n",
      " -5.57505004e-02  2.36030012e-01  4.50664997e-01 -9.55985039e-02\n",
      "  2.14246005e-01  9.60449949e-02 -1.51549995e-01 -2.81210005e-01\n",
      "  3.20420004e-02  2.27210015e-01 -8.42909962e-02  1.23447001e-01\n",
      "  6.42860010e-02  3.86050045e-02 -9.47005004e-02  4.94069993e-01\n",
      " -9.41400006e-02  9.41205025e-02 -3.29364985e-02  1.72966495e-01\n",
      "  8.58449936e-02 -1.40627995e-01 -1.69995502e-01 -2.81654987e-02\n",
      " -1.77899934e-03 -4.55860496e-01  6.32549971e-02  2.02399999e-01\n",
      "  1.20184995e-01 -3.82664979e-01  2.77680010e-01  3.04725021e-02\n",
      " -1.60475001e-01 -3.12820017e-01  1.77699998e-02  2.28594989e-01\n",
      " -3.99849974e-02 -1.90844983e-01 -2.94979990e-01  1.73555002e-01\n",
      " -6.60305023e-02  3.92045490e-02  7.97100067e-02 -9.47699919e-02\n",
      " -2.23950073e-02 -4.40359972e-02 -3.43230009e-01 -3.04771364e-01\n",
      " -4.31745015e-02  1.45904005e-01 -1.37184501e-01  2.38800049e-02\n",
      "  5.13064981e-01  4.80377004e-02 -6.44349679e-03  3.51915002e-01\n",
      "  1.76864207e-01  1.47565007e-02 -7.81409979e-01 -1.12849347e-01\n",
      " -7.17525035e-02 -1.99929506e-01 -1.28347993e-01 -4.95100021e-02\n",
      "  1.99290007e-01 -1.59626499e-01  5.01850009e-01  1.06693000e-01\n",
      "  7.84450024e-02 -2.65340000e-01  1.66661993e-01  2.54656494e-01\n",
      " -1.16317496e-01 -8.44299972e-01  8.89750049e-02 -1.57213494e-01\n",
      "  1.55086994e-01 -9.33829993e-02 -2.98920013e-02  7.99998641e-04\n",
      " -1.85904995e-01  3.48885000e-01  1.09654501e-01  1.20930001e-01\n",
      "  4.34550047e-02 -8.10750052e-02  7.82245025e-02  2.67960012e-01\n",
      " -2.29025498e-01 -3.85085016e-01 -8.04853961e-02  6.86999410e-03\n",
      " -3.65199983e-01  1.11330003e-01 -1.80001006e-01  9.12899971e-02\n",
      "  4.72170003e-02  2.17500016e-01  2.22284988e-01 -1.10166997e-01\n",
      "  1.68345511e-01  1.57848999e-01 -6.40249029e-02  2.45439991e-01\n",
      "  3.38049978e-02 -4.23200056e-03 -1.78387746e-01  4.92411017e-01\n",
      "  1.25290006e-02  1.77825004e-01  1.84233993e-01  1.05193496e-01\n",
      "  2.65345007e-01  5.52500039e-02  1.85200498e-01 -3.04535508e-01\n",
      " -1.17090009e-01  1.96500123e-03 -2.45600000e-01 -1.56965017e-01\n",
      " -2.44998932e-03  3.87014970e-02 -2.73025006e-01  3.06840003e-01]\n"
     ]
    }
   ],
   "source": [
    "#vectorize the query\n",
    "query_vector = np.array([])\n",
    "for token in doc:\n",
    "    word_vector = token.vector\n",
    "    word_vector = word_vector.reshape(1,300)\n",
    "    if query_vector.size == 0:\n",
    "        query_vector = word_vector\n",
    "    else:\n",
    "        query_vector = np.concatenate([query_vector,word_vector],axis = 0)\n",
    "query_vector_mean = query_vector.mean(axis = 0)\n",
    "print(query_vector_mean)"
   ]
  },
  {
   "cell_type": "code",
   "execution_count": 122,
   "metadata": {},
   "outputs": [
    {
     "name": "stdout",
     "output_type": "stream",
     "text": [
      "('stores', 0.32919764518737793)\n",
      "('financial', 0.2734737992286682)\n",
      "('groups', 0.27297863364219666)\n",
      "('demographics', 0.2380644679069519)\n",
      "('permissions', 0.08915110677480698)\n"
     ]
    }
   ],
   "source": [
    "#Match query vector with vectors of thesaurus\n",
    "similarity = [(word\n",
    "                  , np.asscalar(cosine_similarity(query_vector_mean.reshape(1,300),nlp(word).vector.reshape(1,300)))) \n",
    "                 for word in thesaurus]\n",
    "sorted_similarity = sorted(similarity, key = lambda x: x[1], reverse = True)\n",
    "for s in sorted_similarity:\n",
    "    print (s)"
   ]
  },
  {
   "cell_type": "code",
   "execution_count": 124,
   "metadata": {},
   "outputs": [
    {
     "name": "stdout",
     "output_type": "stream",
     "text": [
      "('dc', 0.8235759735107422)\n",
      "('in', 0.6622224450111389)\n",
      "('washington', 0.6298564076423645)\n",
      "('chicago', 0.5693169832229614)\n",
      "('boston', 0.5614482164382935)\n"
     ]
    }
   ],
   "source": [
    "#Generate similar words from spacy vocab\n",
    "similarity = [(word.text.lower()\n",
    "               , np.asscalar(cosine_similarity(query_vector_mean.reshape(1,300),word.vector.reshape(1,300)))) \n",
    "              for word in nlp.vocab if word.prob >= -15 and not word.is_stop]\n",
    "sorted_similarity = sorted(list(set(similarity)), key = lambda x: x[1], reverse = True)\n",
    "for s in sorted_similarity[:5]:\n",
    "    print (s)"
   ]
  },
  {
   "cell_type": "code",
   "execution_count": null,
   "metadata": {},
   "outputs": [],
   "source": []
  }
 ],
 "metadata": {
  "kernelspec": {
   "display_name": "Python 3",
   "language": "python",
   "name": "python3"
  },
  "language_info": {
   "codemirror_mode": {
    "name": "ipython",
    "version": 3
   },
   "file_extension": ".py",
   "mimetype": "text/x-python",
   "name": "python",
   "nbconvert_exporter": "python",
   "pygments_lexer": "ipython3",
   "version": "3.6.3"
  }
 },
 "nbformat": 4,
 "nbformat_minor": 2
}
