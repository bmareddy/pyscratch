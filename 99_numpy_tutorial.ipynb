{
 "cells": [
  {
   "cell_type": "code",
   "execution_count": 2,
   "metadata": {},
   "outputs": [
    {
     "name": "stdout",
     "output_type": "stream",
     "text": [
      "[[1 2 3]\n",
      " [3 2 1]] (2, 3)\n"
     ]
    }
   ],
   "source": [
    "\"\"\"\n",
    "import json\n",
    "import spacy\n",
    "\n",
    "wordllist = ['goudatlog', 'frontend', 'titan', 'compare', 'front', 'index', 'validation', 'test', 'insights', 'business']\n",
    "tokens = nlp(\" \".join(str(s) for s in wordlist))\n",
    "for token in tokens:\n",
    "    wordVec = token.vector\n",
    "\"\"\"\n",
    "import numpy as np\n",
    "a = np.array([[1,2,3],[3,2,1]])\n",
    "print (a, a.shape)"
   ]
  },
  {
   "cell_type": "code",
   "execution_count": 5,
   "metadata": {},
   "outputs": [
    {
     "name": "stdout",
     "output_type": "stream",
     "text": [
      "[[1 2]\n",
      " [3 3]\n",
      " [2 1]] (3, 2)\n"
     ]
    }
   ],
   "source": [
    "a = a.reshape(3,2)\n",
    "print (a, a.shape)"
   ]
  },
  {
   "cell_type": "code",
   "execution_count": 6,
   "metadata": {},
   "outputs": [
    {
     "name": "stdout",
     "output_type": "stream",
     "text": [
      "[[[1]\n",
      "  [2]]\n",
      "\n",
      " [[3]\n",
      "  [3]]\n",
      "\n",
      " [[2]\n",
      "  [1]]] (3, 2, 1)\n"
     ]
    }
   ],
   "source": [
    "a = a.reshape(3,2,1)\n",
    "print (a, a.shape)"
   ]
  },
  {
   "cell_type": "code",
   "execution_count": 7,
   "metadata": {},
   "outputs": [
    {
     "name": "stdout",
     "output_type": "stream",
     "text": [
      "[[[1 2]\n",
      "  [3 3]\n",
      "  [2 1]]] (1, 3, 2)\n"
     ]
    }
   ],
   "source": [
    "a = a.reshape(1,3,2,)\n",
    "print (a, a.shape)"
   ]
  },
  {
   "cell_type": "code",
   "execution_count": 8,
   "metadata": {},
   "outputs": [
    {
     "name": "stdout",
     "output_type": "stream",
     "text": [
      "[[[4 5]\n",
      "  [6 6]\n",
      "  [5 4]]] [[[8.6e-322 0.0e+000]\n",
      "  [0.0e+000 0.0e+000]\n",
      "  [0.0e+000 0.0e+000]]]\n"
     ]
    }
   ],
   "source": [
    "b = np.array([4,5,6,6,5,4])\n",
    "b = b.reshape(1,3,2)\n",
    "c = np.empty((1,3,2))\n",
    "print(b,c)"
   ]
  },
  {
   "cell_type": "code",
   "execution_count": 9,
   "metadata": {},
   "outputs": [
    {
     "name": "stdout",
     "output_type": "stream",
     "text": [
      "6 6 6\n"
     ]
    }
   ],
   "source": [
    "print(a.size,b.size,c.size)"
   ]
  },
  {
   "cell_type": "code",
   "execution_count": 29,
   "metadata": {},
   "outputs": [
    {
     "name": "stdout",
     "output_type": "stream",
     "text": [
      "[] (0,) 0\n"
     ]
    }
   ],
   "source": [
    "c = np.array([])\n",
    "print (c,c.shape,c.size)"
   ]
  },
  {
   "cell_type": "code",
   "execution_count": 12,
   "metadata": {},
   "outputs": [
    {
     "name": "stderr",
     "output_type": "stream",
     "text": [
      "C:\\Users\\bmareddy\\AppData\\Local\\Programs\\Python\\Python36\\lib\\site-packages\\ipykernel_launcher.py:1: DeprecationWarning: The truth value of an empty array is ambiguous. Returning False, but in future this will result in an error. Use `array.size > 0` to check that an array is not empty.\n",
      "  \"\"\"Entry point for launching an IPython kernel.\n"
     ]
    },
    {
     "name": "stdout",
     "output_type": "stream",
     "text": [
      "False\n"
     ]
    }
   ],
   "source": [
    "if c:\n",
    "    print (True)\n",
    "else:\n",
    "    print (False)"
   ]
  },
  {
   "cell_type": "code",
   "execution_count": 32,
   "metadata": {},
   "outputs": [
    {
     "name": "stdout",
     "output_type": "stream",
     "text": [
      "[[[1 2]\n",
      "  [3 3]\n",
      "  [2 1]]\n",
      "\n",
      " [[4 5]\n",
      "  [6 6]\n",
      "  [5 4]]\n",
      "\n",
      " [[1 2]\n",
      "  [3 3]\n",
      "  [2 1]]] (3, 3, 2) 18\n"
     ]
    }
   ],
   "source": [
    "a = a.reshape(1,3,2)\n",
    "b = b.reshape(1,3,2)\n",
    "if c.size == 0:\n",
    "    c = a\n",
    "else:\n",
    "    c = np.concatenate([c,a],axis = 0)\n",
    "print (c,c.shape,c.size)"
   ]
  },
  {
   "cell_type": "code",
   "execution_count": 34,
   "metadata": {},
   "outputs": [
    {
     "name": "stdout",
     "output_type": "stream",
     "text": [
      "[[1 2]\n",
      " [3 3]\n",
      " [2 1]]\n"
     ]
    }
   ],
   "source": [
    "print (c[0])"
   ]
  },
  {
   "cell_type": "code",
   "execution_count": 35,
   "metadata": {},
   "outputs": [
    {
     "name": "stdout",
     "output_type": "stream",
     "text": [
      "2\n"
     ]
    }
   ],
   "source": [
    "print (c[(0,0,1)])"
   ]
  },
  {
   "cell_type": "code",
   "execution_count": 42,
   "metadata": {},
   "outputs": [
    {
     "name": "stdout",
     "output_type": "stream",
     "text": [
      "[[2. 3.]\n",
      " [4. 4.]\n",
      " [3. 2.]] (3, 2) 6\n",
      "[[2. 2.]\n",
      " [5. 5.]\n",
      " [2. 2.]] (3, 2) 6\n",
      "[[1.5 3.  1.5]\n",
      " [4.5 6.  4.5]\n",
      " [1.5 3.  1.5]] (3, 3) 9\n"
     ]
    }
   ],
   "source": [
    "ma0 = c.mean(axis = 0)\n",
    "ma1 = c.mean(axis = 1)\n",
    "ma2 = c.mean(axis = 2)\n",
    "print (ma0,ma0.shape,ma0.size)\n",
    "print (ma1,ma1.shape,ma1.size)\n",
    "print (ma2,ma2.shape,ma2.size)"
   ]
  },
  {
   "cell_type": "code",
   "execution_count": 43,
   "metadata": {},
   "outputs": [
    {
     "name": "stdout",
     "output_type": "stream",
     "text": [
      "[[[1 2]\n",
      "  [3 3]\n",
      "  [2 1]]] [[[1 2]]\n",
      "\n",
      " [[3 3]]\n",
      "\n",
      " [[2 1]]]\n"
     ]
    }
   ],
   "source": [
    "print (a, a.reshape(3,1,2))"
   ]
  },
  {
   "cell_type": "code",
   "execution_count": 6,
   "metadata": {},
   "outputs": [
    {
     "name": "stdout",
     "output_type": "stream",
     "text": [
      "[1, 2, 3, 3, 2, 1]\n"
     ]
    }
   ],
   "source": [
    "print(list(a.reshape(6,)))"
   ]
  },
  {
   "cell_type": "code",
   "execution_count": 7,
   "metadata": {},
   "outputs": [
    {
     "data": {
      "text/plain": [
       "array([[1, 2, 3],\n",
       "       [3, 2, 1]])"
      ]
     },
     "execution_count": 7,
     "metadata": {},
     "output_type": "execute_result"
    }
   ],
   "source": [
    "a"
   ]
  },
  {
   "cell_type": "code",
   "execution_count": 10,
   "metadata": {},
   "outputs": [
    {
     "data": {
      "text/plain": [
       "array([1, 2, 3, 3, 2, 1])"
      ]
     },
     "execution_count": 10,
     "metadata": {},
     "output_type": "execute_result"
    }
   ],
   "source": [
    "a.reshape(6,)"
   ]
  },
  {
   "cell_type": "code",
   "execution_count": 12,
   "metadata": {},
   "outputs": [
    {
     "name": "stdout",
     "output_type": "stream",
     "text": [
      "[[0.58376017]] (1, 1) 1\n"
     ]
    }
   ],
   "source": [
    "x = np.array([[0.58376017]])\n",
    "print(x,x.shape,x.size)"
   ]
  },
  {
   "cell_type": "code",
   "execution_count": 15,
   "metadata": {},
   "outputs": [
    {
     "name": "stdout",
     "output_type": "stream",
     "text": [
      "0.58376017\n"
     ]
    }
   ],
   "source": [
    "print(float(x.reshape(1,)))"
   ]
  },
  {
   "cell_type": "code",
   "execution_count": null,
   "metadata": {},
   "outputs": [],
   "source": []
  }
 ],
 "metadata": {
  "kernelspec": {
   "display_name": "Python 3",
   "language": "python",
   "name": "python3"
  },
  "language_info": {
   "codemirror_mode": {
    "name": "ipython",
    "version": 3
   },
   "file_extension": ".py",
   "mimetype": "text/x-python",
   "name": "python",
   "nbconvert_exporter": "python",
   "pygments_lexer": "ipython3",
   "version": "3.6.3"
  }
 },
 "nbformat": 4,
 "nbformat_minor": 2
}
