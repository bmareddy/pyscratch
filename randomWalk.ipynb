{
 "cells": [
  {
   "cell_type": "markdown",
   "metadata": {},
   "source": [
    "# Random walk down the national mall\n",
    "It's a pleasant spring morning in Washington, DC. Nick and Alex are hanging out at the Lincoln memorial. Nick wanted to walk toward the Washington Monument which is about a 1000 steps. Alex, being the lazy ass he is, proposed they get an Uber.\n",
    "<br>\n",
    "<br>\n",
    "<img src=https://www.getsready.com/wp-content/uploads/2016/05/Washington-Monument-500x332.jpg />"
   ]
  },
  {
   "cell_type": "markdown",
   "metadata": {},
   "source": [
    "<br>\n",
    "Nick wanted to make this walk interesting by playing a game. He brings out a dice from his pocket and proposes the following game. We roll the dice\n",
    "1. If it's 1 or 2, then we take a step backward\n",
    "2. If it's 3,4,or 5, then we take a step forward\n",
    "3. If it's 6, then we roll the dice again and takes the # of steps forward as the number shown on the dice\n",
    "\n",
    "##### How many times will they roll the dice before they reach the monument?\n",
    "<br>"
   ]
  },
  {
   "cell_type": "markdown",
   "metadata": {},
   "source": [
    "Let's write a `python` program to figure this out. The algorithm is as following:\n",
    "1. roll the dice and determine the step\n",
    "2. store cummulative step count in a list called _walk_\n",
    "3. when the value of _step_ reaches 1000 stop\n",
    "4. Repeat this a 1000 times and all walks in list of lists _allwalks_\n",
    "\n",
    "In this program, we will be using lists, numpy and matplot packages"
   ]
  },
  {
   "cell_type": "code",
   "execution_count": 13,
   "metadata": {
    "collapsed": true
   },
   "outputs": [],
   "source": [
    "import numpy as np\n",
    "import matplotlib.pyplot as plt"
   ]
  },
  {
   "cell_type": "markdown",
   "metadata": {},
   "source": [
    "Initialize an empty list for all walks"
   ]
  },
  {
   "cell_type": "code",
   "execution_count": 3,
   "metadata": {
    "collapsed": true
   },
   "outputs": [],
   "source": [
    "all_walks = []"
   ]
  },
  {
   "cell_type": "markdown",
   "metadata": {},
   "source": [
    "Let's embed the logic for **one** walk in a function"
   ]
  },
  {
   "cell_type": "code",
   "execution_count": 7,
   "metadata": {
    "collapsed": true
   },
   "outputs": [],
   "source": [
    "def randomwalk() :\n",
    "    walk = []\n",
    "    step = 0\n",
    "    while step < 1001 :\n",
    "        dice = np.random.randint(1,7) # low is inclusive, high is exclusive\n",
    "        if dice <= 2 :\n",
    "            step = max(0, step - 1) # step is never negative i.e. you will never go backward than where you started\n",
    "        elif dice <= 5 :\n",
    "            step += 1\n",
    "        else :\n",
    "            step += np.random.randint(1,7)\n",
    "        walk.append(step)\n",
    "    return walk"
   ]
  },
  {
   "cell_type": "markdown",
   "metadata": {},
   "source": [
    "Let's give this a shot and see how many time the dice was rolled before we reached the monument"
   ]
  },
  {
   "cell_type": "code",
   "execution_count": 17,
   "metadata": {},
   "outputs": [
    {
     "name": "stdout",
     "output_type": "stream",
     "text": [
      "1342\n",
      "[0, 0, 1, 2, 3, 4, 5, 4, 5, 8, 9, 10, 11, 12, 16, 15, 14, 13, 12, 13, 14, 13, 16, 15, 16, 17, 18, 17, 16, 22, 23, 24, 25, 26, 27, 28, 34, 35, 34, 33, 32, 31, 30, 31, 30, 31, 32, 33, 34, 38, 39, 40, 41, 40, 41, 42, 41, 40, 39, 40, 41, 42, 43, 42, 41, 42, 43, 44, 45, 44, 43, 44, 43, 46, 47, 48, 49, 50, 51, 52, 51, 50, 56, 57, 56, 55, 56, 61, 62, 61, 62, 63, 62, 63, 64, 65, 64, 65, 64, 65, 66, 67, 68, 69, 68, 69, 73, 77, 76, 77, 78, 77, 80, 81, 82, 83, 82, 81, 80, 81, 82, 81, 80, 81, 86, 87, 88, 89, 88, 89, 90, 89, 88, 87, 91, 90, 91, 90, 91, 92, 91, 92, 96, 97, 98, 97, 98, 99, 102, 101, 102, 103, 102, 107, 108, 109, 108, 107, 108, 107, 108, 107, 108, 109, 110, 113, 112, 111, 117, 116, 117, 118, 117, 118, 117, 118, 119, 120, 121, 120, 126, 125, 124, 125, 126, 127, 128, 129, 130, 131, 132, 133, 134, 135, 136, 135, 136, 137, 141, 142, 141, 140, 141, 142, 143, 142, 143, 144, 145, 146, 147, 146, 145, 144, 143, 142, 143, 146, 147, 146, 147, 146, 147, 146, 147, 148, 147, 148, 149, 150, 151, 152, 153, 152, 158, 159, 160, 161, 164, 163, 162, 161, 162, 163, 164, 165, 164, 165, 166, 167, 170, 171, 177, 180, 181, 182, 183, 182, 183, 184, 183, 184, 183, 184, 183, 182, 183, 182, 183, 184, 185, 188, 189, 191, 193, 194, 195, 194, 193, 196, 197, 196, 197, 196, 197, 196, 197, 203, 202, 203, 202, 201, 200, 201, 202, 203, 205, 206, 205, 206, 207, 206, 207, 206, 212, 213, 214, 213, 218, 219, 220, 221, 223, 224, 223, 224, 226, 227, 230, 233, 232, 233, 234, 238, 237, 238, 237, 236, 235, 234, 235, 236, 237, 238, 237, 238, 237, 238, 237, 238, 237, 238, 239, 240, 239, 238, 242, 243, 248, 249, 250, 252, 253, 254, 255, 260, 263, 264, 263, 262, 263, 262, 261, 262, 261, 267, 268, 269, 270, 271, 272, 273, 277, 278, 279, 283, 284, 283, 282, 281, 282, 285, 286, 287, 288, 289, 288, 289, 288, 292, 293, 294, 295, 296, 297, 296, 295, 301, 302, 301, 300, 299, 298, 299, 300, 301, 302, 301, 300, 303, 304, 305, 306, 307, 308, 307, 306, 307, 308, 307, 306, 305, 304, 305, 304, 303, 304, 305, 304, 309, 308, 307, 308, 307, 306, 312, 311, 312, 315, 316, 315, 316, 315, 316, 319, 320, 321, 320, 319, 320, 324, 325, 326, 327, 328, 332, 333, 334, 335, 336, 335, 334, 335, 336, 335, 336, 337, 338, 342, 341, 342, 341, 340, 346, 345, 346, 345, 346, 345, 346, 347, 351, 354, 353, 352, 353, 352, 351, 350, 349, 354, 356, 355, 356, 357, 362, 363, 362, 361, 360, 359, 358, 357, 358, 357, 358, 359, 358, 357, 356, 357, 356, 355, 354, 357, 356, 355, 358, 359, 358, 357, 358, 357, 358, 359, 358, 357, 356, 357, 356, 357, 359, 360, 359, 360, 359, 360, 364, 363, 364, 365, 364, 363, 364, 363, 364, 365, 366, 365, 367, 368, 373, 372, 373, 374, 375, 376, 375, 374, 373, 372, 373, 372, 373, 372, 371, 370, 371, 372, 373, 372, 371, 377, 376, 375, 374, 373, 377, 378, 379, 380, 381, 385, 384, 385, 386, 385, 384, 385, 386, 387, 386, 387, 388, 390, 391, 392, 391, 390, 391, 392, 391, 392, 395, 396, 399, 400, 401, 402, 403, 406, 408, 409, 410, 411, 410, 411, 412, 411, 412, 413, 414, 415, 416, 417, 418, 419, 420, 421, 420, 423, 424, 425, 424, 425, 424, 425, 426, 425, 426, 425, 426, 427, 428, 427, 428, 433, 432, 433, 434, 435, 434, 435, 434, 435, 434, 440, 441, 444, 449, 450, 449, 450, 449, 448, 447, 448, 452, 457, 456, 457, 463, 464, 465, 464, 463, 464, 465, 466, 467, 466, 469, 475, 476, 477, 483, 482, 483, 484, 483, 482, 483, 482, 484, 485, 484, 485, 484, 485, 486, 485, 484, 485, 486, 487, 488, 489, 490, 491, 492, 493, 494, 493, 498, 501, 502, 503, 504, 505, 506, 507, 508, 511, 512, 511, 512, 513, 514, 515, 514, 515, 514, 513, 514, 515, 516, 515, 514, 513, 514, 513, 519, 520, 525, 526, 525, 524, 525, 526, 529, 532, 538, 537, 536, 538, 539, 540, 539, 540, 539, 538, 539, 538, 539, 544, 545, 546, 547, 548, 547, 546, 547, 549, 548, 549, 548, 554, 557, 556, 557, 558, 559, 564, 563, 564, 563, 564, 569, 574, 578, 579, 578, 579, 580, 581, 582, 583, 582, 583, 584, 585, 586, 591, 592, 591, 590, 591, 592, 593, 592, 591, 592, 593, 594, 593, 594, 593, 594, 596, 597, 599, 598, 597, 603, 602, 601, 602, 601, 600, 599, 600, 601, 605, 606, 607, 606, 605, 604, 608, 609, 610, 609, 610, 611, 610, 609, 610, 609, 608, 609, 610, 609, 610, 612, 611, 617, 622, 621, 622, 621, 622, 623, 624, 625, 624, 623, 624, 625, 626, 627, 626, 627, 626, 627, 628, 629, 630, 629, 630, 629, 630, 632, 633, 635, 634, 633, 634, 633, 634, 635, 634, 633, 634, 635, 634, 633, 634, 638, 639, 638, 637, 636, 635, 637, 638, 639, 638, 637, 636, 637, 638, 639, 640, 641, 644, 645, 646, 645, 644, 643, 645, 644, 645, 644, 643, 642, 643, 642, 643, 644, 645, 646, 647, 648, 649, 650, 654, 653, 652, 653, 652, 651, 650, 655, 654, 655, 656, 657, 658, 662, 667, 666, 665, 666, 665, 666, 670, 669, 668, 667, 668, 667, 668, 669, 670, 669, 673, 675, 674, 675, 674, 673, 672, 673, 677, 679, 678, 679, 682, 681, 680, 681, 682, 681, 682, 684, 685, 686, 687, 688, 689, 688, 687, 688, 687, 686, 687, 688, 687, 688, 689, 690, 691, 690, 689, 688, 689, 690, 696, 697, 702, 708, 709, 708, 709, 710, 711, 712, 717, 722, 724, 727, 729, 735, 734, 737, 738, 739, 740, 741, 740, 746, 750, 751, 750, 751, 752, 754, 753, 754, 753, 754, 755, 756, 757, 756, 755, 756, 757, 759, 760, 761, 760, 759, 765, 764, 765, 766, 770, 771, 772, 775, 778, 779, 778, 777, 778, 784, 787, 788, 787, 788, 789, 790, 789, 788, 787, 786, 787, 788, 789, 790, 791, 790, 793, 794, 793, 792, 793, 792, 791, 790, 791, 794, 795, 794, 793, 794, 795, 796, 797, 796, 797, 803, 804, 803, 804, 803, 802, 803, 804, 803, 809, 810, 811, 812, 811, 812, 813, 814, 815, 814, 815, 816, 817, 821, 822, 823, 824, 825, 827, 828, 829, 828, 832, 835, 834, 833, 834, 837, 838, 839, 840, 844, 845, 846, 847, 846, 845, 846, 847, 848, 849, 848, 849, 850, 849, 848, 850, 851, 857, 856, 855, 854, 855, 854, 855, 856, 857, 856, 859, 860, 861, 860, 859, 860, 861, 860, 859, 860, 861, 862, 863, 869, 868, 870, 872, 871, 872, 873, 872, 873, 878, 879, 880, 881, 882, 883, 884, 885, 886, 887, 890, 889, 891, 890, 891, 892, 893, 894, 895, 894, 895, 896, 895, 894, 896, 897, 898, 897, 898, 899, 900, 901, 902, 904, 903, 904, 905, 906, 910, 909, 910, 909, 908, 909, 910, 909, 908, 909, 910, 911, 912, 913, 916, 917, 916, 917, 922, 923, 924, 923, 924, 925, 926, 925, 926, 925, 924, 923, 924, 925, 924, 923, 922, 921, 926, 929, 928, 929, 934, 935, 936, 937, 938, 939, 940, 939, 943, 944, 945, 946, 947, 948, 947, 948, 949, 950, 949, 952, 953, 954, 955, 954, 959, 958, 959, 963, 964, 963, 962, 961, 962, 961, 960, 959, 960, 959, 958, 964, 965, 966, 967, 973, 974, 973, 972, 977, 978, 979, 980, 984, 983, 984, 983, 982, 981, 982, 983, 984, 985, 984, 985, 986, 991, 992, 991, 992, 997, 996, 1000, 1001]\n"
     ]
    }
   ],
   "source": [
    "walk = randomwalk()\n",
    "print(len(walk))\n",
    "print(walk)"
   ]
  },
  {
   "cell_type": "markdown",
   "metadata": {},
   "source": [
    "#### 1342 times!! \n",
    "Whoa..that's a lot of numbers. Hard to comprehend...isn't it. Let's plot this on a chart."
   ]
  },
  {
   "cell_type": "code",
   "execution_count": 19,
   "metadata": {},
   "outputs": [
    {
     "data": {
      "image/png": "[encoded data removed]",
      "text/plain": [
       "<matplotlib.figure.Figure at 0x235ef6a7780>"
      ]
     },
     "metadata": {},
     "output_type": "display_data"
    }
   ],
   "source": [
    "plt.plot(walk) # when a single list is passed x-axis is the index and y-axis is the value\n",
    "plt.show()"
   ]
  },
  {
   "cell_type": "markdown",
   "metadata": {},
   "source": [
    "Let's run this a 100 times and see how this does."
   ]
  },
  {
   "cell_type": "code",
   "execution_count": 20,
   "metadata": {},
   "outputs": [
    {
     "name": "stdout",
     "output_type": "stream",
     "text": [
      "100\n"
     ]
    }
   ],
   "source": [
    "for i in range(100) :\n",
    "    walk = randomwalk()\n",
    "    all_walks.append(walk)\n",
    "print(len(all_walks)) # list of 100 lists"
   ]
  },
  {
   "cell_type": "code",
   "execution_count": 23,
   "metadata": {},
   "outputs": [],
   "source": [
    "rolls = [len(x) for x in all_walks] # list comprehension. Get the number of time dice was rolled for each walk"
   ]
  },
  {
   "cell_type": "markdown",
   "metadata": {},
   "source": [
    "Let's see how the distribution looks like for these 100 runs"
   ]
  },
  {
   "cell_type": "code",
   "execution_count": 24,
   "metadata": {},
   "outputs": [
    {
     "data": {
      "image/png": "[encoded data removed]",
      "text/plain": [
       "<matplotlib.figure.Figure at 0x235ef83d518>"
      ]
     },
     "metadata": {},
     "output_type": "display_data"
    }
   ],
   "source": [
    "plt.clf()\n",
    "plt.hist(rolls)\n",
    "plt.show()"
   ]
  },
  {
   "cell_type": "markdown",
   "metadata": {},
   "source": [
    "Somewhere between 1300 and 1400. Not a perfect bell curve... let's see how it changes if we do this a 500 times"
   ]
  },
  {
   "cell_type": "code",
   "execution_count": 25,
   "metadata": {},
   "outputs": [
    {
     "data": {
      "image/png": "[encoded data removed]",
      "text/plain": [
       "<matplotlib.figure.Figure at 0x235f20be908>"
      ]
     },
     "metadata": {},
     "output_type": "display_data"
    }
   ],
   "source": [
    "all_walks = []\n",
    "for i in range(500) :\n",
    "    walk = randomwalk()\n",
    "    all_walks.append(walk)\n",
    "rolls = [len(x) for x in all_walks]\n",
    "plt.clf()\n",
    "plt.hist(rolls)\n",
    "plt.show()"
   ]
  },
  {
   "cell_type": "markdown",
   "metadata": {},
   "source": [
    "##### Much better. We can see the bell forming around 1300 to 1350... Let's see if this holds when we do this a 1000 times"
   ]
  },
  {
   "cell_type": "code",
   "execution_count": 28,
   "metadata": {},
   "outputs": [
    {
     "data": {
      "image/png": "[encoded data removed]",
      "text/plain": [
       "<matplotlib.figure.Figure at 0x235e5b37a58>"
      ]
     },
     "metadata": {},
     "output_type": "display_data"
    }
   ],
   "source": [
    "all_walks = []\n",
    "for i in range(1000) :\n",
    "    walk = randomwalk()\n",
    "    all_walks.append(walk)\n",
    "rolls = [len(x) for x in all_walks]\n",
    "plt.clf()\n",
    "plt.hist(rolls)\n",
    "plt.show()"
   ]
  },
  {
   "cell_type": "markdown",
   "metadata": {},
   "source": [
    "A bit more refined.. so you get the concept now. You can simulate this as many times as you want to narrow it down to the real answer you would get by solving this as a mathematical problem\n",
    "<br>\n",
    "<br>\n",
    "Hope you enjoyed this exercise. Go practice!!\n",
    "\n",
    "##### credits: The concept of this exercise was borrowed from DataCamp.com"
   ]
  }
 ],
 "metadata": {
  "kernelspec": {
   "display_name": "Python 3",
   "language": "python",
   "name": "python3"
  },
  "language_info": {
   "codemirror_mode": {
    "name": "ipython",
    "version": 3
   },
   "file_extension": ".py",
   "mimetype": "text/x-python",
   "name": "python",
   "nbconvert_exporter": "python",
   "pygments_lexer": "ipython3",
   "version": "3.6.2"
  }
 },
 "nbformat": 4,
 "nbformat_minor": 2
}
